{
 "cells": [
  {
   "cell_type": "code",
   "execution_count": 575,
   "metadata": {},
   "outputs": [
    {
     "data": {
      "text/html": [
       "<div>\n",
       "<style scoped>\n",
       "    .dataframe tbody tr th:only-of-type {\n",
       "        vertical-align: middle;\n",
       "    }\n",
       "\n",
       "    .dataframe tbody tr th {\n",
       "        vertical-align: top;\n",
       "    }\n",
       "\n",
       "    .dataframe thead th {\n",
       "        text-align: right;\n",
       "    }\n",
       "</style>\n",
       "<table border=\"1\" class=\"dataframe\">\n",
       "  <thead>\n",
       "    <tr style=\"text-align: right;\">\n",
       "      <th></th>\n",
       "      <th>lesion_id</th>\n",
       "      <th>image_id</th>\n",
       "      <th>dx</th>\n",
       "      <th>dx_type</th>\n",
       "      <th>age</th>\n",
       "      <th>sex</th>\n",
       "      <th>localization</th>\n",
       "    </tr>\n",
       "  </thead>\n",
       "  <tbody>\n",
       "    <tr>\n",
       "      <th>0</th>\n",
       "      <td>HAM_0000118</td>\n",
       "      <td>ISIC_0027419</td>\n",
       "      <td>bkl</td>\n",
       "      <td>histo</td>\n",
       "      <td>80.0</td>\n",
       "      <td>male</td>\n",
       "      <td>scalp</td>\n",
       "    </tr>\n",
       "    <tr>\n",
       "      <th>1</th>\n",
       "      <td>HAM_0000118</td>\n",
       "      <td>ISIC_0025030</td>\n",
       "      <td>bkl</td>\n",
       "      <td>histo</td>\n",
       "      <td>80.0</td>\n",
       "      <td>male</td>\n",
       "      <td>scalp</td>\n",
       "    </tr>\n",
       "    <tr>\n",
       "      <th>2</th>\n",
       "      <td>HAM_0002730</td>\n",
       "      <td>ISIC_0026769</td>\n",
       "      <td>bkl</td>\n",
       "      <td>histo</td>\n",
       "      <td>80.0</td>\n",
       "      <td>male</td>\n",
       "      <td>scalp</td>\n",
       "    </tr>\n",
       "    <tr>\n",
       "      <th>3</th>\n",
       "      <td>HAM_0002730</td>\n",
       "      <td>ISIC_0025661</td>\n",
       "      <td>bkl</td>\n",
       "      <td>histo</td>\n",
       "      <td>80.0</td>\n",
       "      <td>male</td>\n",
       "      <td>scalp</td>\n",
       "    </tr>\n",
       "    <tr>\n",
       "      <th>4</th>\n",
       "      <td>HAM_0001466</td>\n",
       "      <td>ISIC_0031633</td>\n",
       "      <td>bkl</td>\n",
       "      <td>histo</td>\n",
       "      <td>75.0</td>\n",
       "      <td>male</td>\n",
       "      <td>ear</td>\n",
       "    </tr>\n",
       "    <tr>\n",
       "      <th>...</th>\n",
       "      <td>...</td>\n",
       "      <td>...</td>\n",
       "      <td>...</td>\n",
       "      <td>...</td>\n",
       "      <td>...</td>\n",
       "      <td>...</td>\n",
       "      <td>...</td>\n",
       "    </tr>\n",
       "    <tr>\n",
       "      <th>10010</th>\n",
       "      <td>HAM_0002867</td>\n",
       "      <td>ISIC_0033084</td>\n",
       "      <td>akiec</td>\n",
       "      <td>histo</td>\n",
       "      <td>40.0</td>\n",
       "      <td>male</td>\n",
       "      <td>abdomen</td>\n",
       "    </tr>\n",
       "    <tr>\n",
       "      <th>10011</th>\n",
       "      <td>HAM_0002867</td>\n",
       "      <td>ISIC_0033550</td>\n",
       "      <td>akiec</td>\n",
       "      <td>histo</td>\n",
       "      <td>40.0</td>\n",
       "      <td>male</td>\n",
       "      <td>abdomen</td>\n",
       "    </tr>\n",
       "    <tr>\n",
       "      <th>10012</th>\n",
       "      <td>HAM_0002867</td>\n",
       "      <td>ISIC_0033536</td>\n",
       "      <td>akiec</td>\n",
       "      <td>histo</td>\n",
       "      <td>40.0</td>\n",
       "      <td>male</td>\n",
       "      <td>abdomen</td>\n",
       "    </tr>\n",
       "    <tr>\n",
       "      <th>10013</th>\n",
       "      <td>HAM_0000239</td>\n",
       "      <td>ISIC_0032854</td>\n",
       "      <td>akiec</td>\n",
       "      <td>histo</td>\n",
       "      <td>80.0</td>\n",
       "      <td>male</td>\n",
       "      <td>face</td>\n",
       "    </tr>\n",
       "    <tr>\n",
       "      <th>10014</th>\n",
       "      <td>HAM_0003521</td>\n",
       "      <td>ISIC_0032258</td>\n",
       "      <td>mel</td>\n",
       "      <td>histo</td>\n",
       "      <td>70.0</td>\n",
       "      <td>female</td>\n",
       "      <td>back</td>\n",
       "    </tr>\n",
       "  </tbody>\n",
       "</table>\n",
       "<p>10015 rows × 7 columns</p>\n",
       "</div>"
      ],
      "text/plain": [
       "         lesion_id      image_id     dx dx_type   age     sex localization\n",
       "0      HAM_0000118  ISIC_0027419    bkl   histo  80.0    male        scalp\n",
       "1      HAM_0000118  ISIC_0025030    bkl   histo  80.0    male        scalp\n",
       "2      HAM_0002730  ISIC_0026769    bkl   histo  80.0    male        scalp\n",
       "3      HAM_0002730  ISIC_0025661    bkl   histo  80.0    male        scalp\n",
       "4      HAM_0001466  ISIC_0031633    bkl   histo  75.0    male          ear\n",
       "...            ...           ...    ...     ...   ...     ...          ...\n",
       "10010  HAM_0002867  ISIC_0033084  akiec   histo  40.0    male      abdomen\n",
       "10011  HAM_0002867  ISIC_0033550  akiec   histo  40.0    male      abdomen\n",
       "10012  HAM_0002867  ISIC_0033536  akiec   histo  40.0    male      abdomen\n",
       "10013  HAM_0000239  ISIC_0032854  akiec   histo  80.0    male         face\n",
       "10014  HAM_0003521  ISIC_0032258    mel   histo  70.0  female         back\n",
       "\n",
       "[10015 rows x 7 columns]"
      ]
     },
     "execution_count": 575,
     "metadata": {},
     "output_type": "execute_result"
    }
   ],
   "source": [
    "# THIS CODE IS DONE BY\n",
    "# CS20B1057\n",
    "# A S V DHANUSH\n",
    "# Skin Cancer Dataset\n",
    "# IIITDM YR3\n",
    "'''\n",
    "The Cancerous Cells are: (C)\n",
    "Actinic keratoses and intraepithelial carcinoma / Bowen's disease (akiec) \n",
    "basal cell carcinoma (bcc) \n",
    "melanoma (mel) \n",
    "'''\n",
    "'''\n",
    "The Non Cancerous Cells are : (NC)\n",
    "1)benign keratosis-like lesions (solar lentigines /  \n",
    "seborrheic keratoses \n",
    "and lichen-planus like keratoses, bkl)\n",
    "2)dermatofibroma (df) \n",
    "3)melanocytic nevi (nv) \n",
    "4)vascular lesions (angiomas, angiokeratomas, \n",
    "pyogenic granulomas and hemorrhage, vasc).\n",
    "'''\n",
    "\n",
    "from sklearn.neighbors import KNeighborsClassifier as KNN\n",
    "from sklearn.metrics import mean_absolute_error\n",
    "from sklearn.model_selection import train_test_split\n",
    "import math\n",
    "import pandas as pd\n",
    "import numpy as np\n",
    "import seaborn as sns\n",
    "import matplotlib.pyplot as plt\n",
    "from sklearn.metrics import accuracy_score\n",
    "from sklearn.metrics import confusion_matrix\n",
    "df = pd.read_csv('./skin_cancer.csv')\n",
    "df\n"
   ]
  },
  {
   "cell_type": "code",
   "execution_count": 576,
   "metadata": {},
   "outputs": [
    {
     "name": "stdout",
     "output_type": "stream",
     "text": [
      "(10015, 7)\n",
      "lesion_id        object\n",
      "image_id         object\n",
      "dx               object\n",
      "dx_type          object\n",
      "age             float64\n",
      "sex              object\n",
      "localization     object\n",
      "dtype: object\n"
     ]
    },
    {
     "data": {
      "text/plain": [
       "['bkl', 'nv', 'df', 'mel', 'vasc', 'bcc', 'akiec']"
      ]
     },
     "execution_count": 576,
     "metadata": {},
     "output_type": "execute_result"
    }
   ],
   "source": [
    "df_copy = df.copy(deep=True)\n",
    "# shape of the dataframe\n",
    "print(df_copy.shape)\n",
    "print(df_copy.dtypes)\n",
    "\n",
    "# types of cells\n",
    "list_unique_cells = list(df_copy[\"dx\"].unique())\n",
    "list_unique_cells\n"
   ]
  },
  {
   "cell_type": "code",
   "execution_count": 577,
   "metadata": {},
   "outputs": [
    {
     "name": "stdout",
     "output_type": "stream",
     "text": [
      "         lesion_id      image_id     dx dx_type   age     sex localization\n",
      "0      HAM_0000118  ISIC_0027419    bkl   histo  80.0    male        scalp\n",
      "1      HAM_0000118  ISIC_0025030    bkl   histo  80.0    male        scalp\n",
      "2      HAM_0002730  ISIC_0026769    bkl   histo  80.0    male        scalp\n",
      "3      HAM_0002730  ISIC_0025661    bkl   histo  80.0    male        scalp\n",
      "4      HAM_0001466  ISIC_0031633    bkl   histo  75.0    male          ear\n",
      "...            ...           ...    ...     ...   ...     ...          ...\n",
      "10010  HAM_0002867  ISIC_0033084  akiec   histo  40.0    male      abdomen\n",
      "10011  HAM_0002867  ISIC_0033550  akiec   histo  40.0    male      abdomen\n",
      "10012  HAM_0002867  ISIC_0033536  akiec   histo  40.0    male      abdomen\n",
      "10013  HAM_0000239  ISIC_0032854  akiec   histo  80.0    male         face\n",
      "10014  HAM_0003521  ISIC_0032258    mel   histo  70.0  female         back\n",
      "\n",
      "[10015 rows x 7 columns]\n"
     ]
    }
   ],
   "source": [
    "print(df_copy)\n"
   ]
  },
  {
   "cell_type": "code",
   "execution_count": 578,
   "metadata": {},
   "outputs": [
    {
     "name": "stdout",
     "output_type": "stream",
     "text": [
      "\n",
      "514 People have (bcc)\n",
      "\n",
      "327 People have (akiec)\n",
      "\n",
      "1113 People have (mel)\n",
      "\n",
      "Total of 1954 People have Cancer\n",
      "\n"
     ]
    }
   ],
   "source": [
    "# For prediction of cancer lesion id and image id are not required\n",
    "# hence we drop it\n",
    "\n",
    "\n",
    "df_copy = df_copy.drop(['image_id'], axis=1)\n",
    "df_copy = df_copy.drop(['lesion_id'], axis=1)\n",
    "df_copy\n",
    "# also since dx_type in all cases is the same we can drop that column\n",
    "df_copy = df_copy.drop(['dx_type'], axis=1)\n",
    "# grouping based on the type of cells(pigmented lesions)\n",
    "# based on cancerrous cells\n",
    "count_people_bcc = df_copy[df_copy[\"dx\"] == \"bcc\"][\"dx\"].count()\n",
    "print(f\"\\n{count_people_bcc} People have (bcc)\\n\")\n",
    "count_people_akiec = df_copy[df_copy[\"dx\"] == \"akiec\"][\"dx\"].count()\n",
    "print(f\"{count_people_akiec} People have (akiec)\\n\")\n",
    "count_people_mel = df_copy[df_copy[\"dx\"] == \"mel\"][\"dx\"].count()\n",
    "print(f\"{count_people_mel} People have (mel)\\n\")\n",
    "\n",
    "# HENCE TOTAL NUMBER OF PEOPLE WITH CANCER ARE :\n",
    "count_cancer_people = count_people_bcc+count_people_akiec+count_people_mel\n",
    "print(f\"Total of {count_cancer_people} People have Cancer\\n\")\n"
   ]
  },
  {
   "cell_type": "code",
   "execution_count": 579,
   "metadata": {},
   "outputs": [
    {
     "name": "stdout",
     "output_type": "stream",
     "text": [
      "[6705, 1113, 1099, 514, 327, 142, 115]\n"
     ]
    },
    {
     "data": {
      "image/png": "[encoded data removed]",
      "text/plain": [
       "<Figure size 640x480 with 1 Axes>"
      ]
     },
     "metadata": {},
     "output_type": "display_data"
    }
   ],
   "source": [
    "# which cell is more prominent\n",
    "cell_counts = list(df_copy[\"dx\"].value_counts())\n",
    "print(cell_counts)\n",
    "'''\n",
    "nv       6705\n",
    "mel      1113\n",
    "bkl      1099\n",
    "bcc       514\n",
    "akiec     327\n",
    "vasc      142\n",
    "df        115\n",
    "'''\n",
    "\n",
    "# plotting a bar graph\n",
    "plt0 = pd.DataFrame(\n",
    "    {'count': ['nv', 'mel', 'bkl', 'bcc', 'akiec', 'vasc', 'df'], 'val': cell_counts})\n",
    "ax0 = plt0.plot.bar(x='count', y='val', rot=45)\n"
   ]
  },
  {
   "cell_type": "code",
   "execution_count": 580,
   "metadata": {},
   "outputs": [
    {
     "name": "stdout",
     "output_type": "stream",
     "text": [
      "          dx   age     sex     localization\n",
      "1211     mel  40.0  female            chest\n",
      "1212     mel  40.0  female            chest\n",
      "1213     mel  80.0    male  upper extremity\n",
      "1214     mel  60.0    male            chest\n",
      "1215     mel  60.0    male            chest\n",
      "...      ...   ...     ...              ...\n",
      "10010  akiec  40.0    male          abdomen\n",
      "10011  akiec  40.0    male          abdomen\n",
      "10012  akiec  40.0    male          abdomen\n",
      "10013  akiec  80.0    male             face\n",
      "10014    mel  70.0  female             back\n",
      "\n",
      "[1954 rows x 4 columns]\n",
      "(1954, 4)\n"
     ]
    }
   ],
   "source": [
    "# dataframe with people with cancer\n",
    "df_with_cancer = df_copy[(df_copy[\"dx\"] == \"bcc\") | (\n",
    "    df_copy[\"dx\"] == \"akiec\") | (df_copy[\"dx\"] == \"mel\")]\n",
    "print(df_with_cancer)\n",
    "\n",
    "# shape of this dataframe\n",
    "print(df_with_cancer.shape)\n",
    "# which is same as our count\n"
   ]
  },
  {
   "cell_type": "code",
   "execution_count": 581,
   "metadata": {},
   "outputs": [
    {
     "name": "stdout",
     "output_type": "stream",
     "text": [
      "       dx   age     sex localization\n",
      "0     bkl  80.0    male        scalp\n",
      "1     bkl  80.0    male        scalp\n",
      "2     bkl  80.0    male        scalp\n",
      "3     bkl  80.0    male        scalp\n",
      "4     bkl  75.0    male          ear\n",
      "...   ...   ...     ...          ...\n",
      "9682   nv  20.0    male        chest\n",
      "9683   nv  20.0    male         back\n",
      "9684   nv  20.0    male         back\n",
      "9685   nv  40.0    male         neck\n",
      "9686   nv  50.0  female         face\n",
      "\n",
      "[8061 rows x 4 columns]\n",
      "(8061, 4)\n"
     ]
    }
   ],
   "source": [
    "# dataframe with people without cancer\n",
    "df_without_cancer = df_copy[(df_copy[\"dx\"] == \"bkl\") | (\n",
    "    df_copy[\"dx\"] == \"df\") | (df_copy[\"dx\"] == \"nv\") | (df_copy[\"dx\"] == \"vasc\")]\n",
    "print(df_without_cancer)\n",
    "\n",
    "# shape of this dataframe\n",
    "print(df_without_cancer.shape)\n",
    "# which is same as our count\n"
   ]
  },
  {
   "cell_type": "code",
   "execution_count": 582,
   "metadata": {},
   "outputs": [
    {
     "data": {
      "image/png": "[encoded data removed]",
      "text/plain": [
       "<Figure size 640x480 with 1 Axes>"
      ]
     },
     "metadata": {},
     "output_type": "display_data"
    }
   ],
   "source": [
    "# plotting a bar graph\n",
    "plt1 = pd.DataFrame({'count': ['Without Cancer', 'With Cancer'], 'val': [\n",
    "                    df_without_cancer.shape[0], df_with_cancer.shape[0]]})\n",
    "ax = plt1.plot.bar(x='count', y='val', rot=45, color=['red', 'green'])\n"
   ]
  },
  {
   "cell_type": "code",
   "execution_count": 583,
   "metadata": {},
   "outputs": [
    {
     "name": "stdout",
     "output_type": "stream",
     "text": [
      "20.0% people have cancer!\n",
      "80.0% people donot have cancer!\n"
     ]
    }
   ],
   "source": [
    "# LET US FIND THE RATIO OF THE NUMBER OF WITH CANCER PATIENTS\n",
    "percentatge_with_cancer = df_with_cancer.shape[0]/df_copy.shape[0]\n",
    "percentatge_with_cancer = round(percentatge_with_cancer, 2)\n",
    "print(f\"{percentatge_with_cancer * 100}% people have cancer!\")\n",
    "print(f\"{100 - (percentatge_with_cancer * 100)}% people donot have cancer!\")\n"
   ]
  },
  {
   "cell_type": "code",
   "execution_count": 584,
   "metadata": {},
   "outputs": [
    {
     "name": "stdout",
     "output_type": "stream",
     "text": [
      "          dx   age   sex     localization\n",
      "1213     mel  80.0  male  upper extremity\n",
      "1214     mel  60.0  male            chest\n",
      "1215     mel  60.0  male            chest\n",
      "1218     mel  55.0  male             back\n",
      "1219     mel  55.0  male             back\n",
      "...      ...   ...   ...              ...\n",
      "10008  akiec  60.0  male             face\n",
      "10010  akiec  40.0  male          abdomen\n",
      "10011  akiec  40.0  male          abdomen\n",
      "10012  akiec  40.0  male          abdomen\n",
      "10013  akiec  80.0  male             face\n",
      "\n",
      "[1227 rows x 4 columns]\n",
      "\n",
      "1227 Males have cancer\n",
      "\n",
      "12.0% people who are males have cancer!\n"
     ]
    }
   ],
   "source": [
    "# number of males with cancer\n",
    "males_with_cancer = df_with_cancer[df_with_cancer[\"sex\"] == \"male\"]\n",
    "print(males_with_cancer)\n",
    "print(f\"\\n{males_with_cancer.shape[0]} Males have cancer\\n\")\n",
    "# percentage of males with cancer from overall dataset population\n",
    "percentatge_males_with_cancer = males_with_cancer.shape[0]/df_copy.shape[0]\n",
    "percentatge_males_with_cancer = round(percentatge_males_with_cancer, 2)\n",
    "print(f\"{percentatge_males_with_cancer * 100}% people who are males have cancer!\")\n"
   ]
  },
  {
   "cell_type": "code",
   "execution_count": 585,
   "metadata": {},
   "outputs": [
    {
     "name": "stdout",
     "output_type": "stream",
     "text": [
      "          dx   age     sex     localization\n",
      "1211     mel  40.0  female            chest\n",
      "1212     mel  40.0  female            chest\n",
      "1216     mel  40.0  female             back\n",
      "1217     mel  45.0  female  lower extremity\n",
      "1223     mel  85.0  female  lower extremity\n",
      "...      ...   ...     ...              ...\n",
      "10003  akiec  60.0  female             face\n",
      "10006  akiec  55.0  female             face\n",
      "10007  akiec  60.0  female             face\n",
      "10009  akiec  75.0  female  lower extremity\n",
      "10014    mel  70.0  female             back\n",
      "\n",
      "[727 rows x 4 columns]\n",
      "\n",
      "727 Females have cancer\n",
      "\n",
      "7.26% of overall people who are females have cancer!\n"
     ]
    }
   ],
   "source": [
    "# number of females with cancer\n",
    "females_with_cancer = df_with_cancer[df_with_cancer[\"sex\"] == \"female\"]\n",
    "print(females_with_cancer)\n",
    "print(f\"\\n{females_with_cancer.shape[0]} Females have cancer\\n\")\n",
    "# percentage of females with cancer from overall dataset population\n",
    "percentatge_females_with_cancer = females_with_cancer.shape[0]/df_copy.shape[0]\n",
    "percentatge_females_with_cancer = round(percentatge_females_with_cancer, 4)\n",
    "print(f\"{percentatge_females_with_cancer * 100}% of overall people who are females have cancer!\")\n"
   ]
  },
  {
   "cell_type": "code",
   "execution_count": 586,
   "metadata": {},
   "outputs": [
    {
     "data": {
      "image/png": "[encoded data removed]",
      "text/plain": [
       "<Figure size 640x480 with 1 Axes>"
      ]
     },
     "metadata": {},
     "output_type": "display_data"
    }
   ],
   "source": [
    "# plotting typer of cancerrous cells count\n",
    "plt2 = pd.DataFrame({'count': ['bcc', 'akiec', 'mel'], 'val': [\n",
    "                    count_people_bcc, count_people_akiec, count_people_mel]})\n",
    "ax1 = plt2.plot.bar(x='count', y='val', rot=45,\n",
    "                    color=['red', 'green', 'yellow'])\n"
   ]
  },
  {
   "cell_type": "code",
   "execution_count": 587,
   "metadata": {},
   "outputs": [
    {
     "name": "stdout",
     "output_type": "stream",
     "text": [
      "At the following places the lesions are seen : \n",
      " ['chest' 'upper extremity' 'back' 'lower extremity' 'face' 'abdomen'\n",
      " 'foot' 'neck' 'ear' 'trunk' 'scalp' 'unknown' 'hand']\n",
      "Total Unique Places of lesion :  13\n",
      "[539, 324, 318, 315, 127, 89, 59, 53, 47, 32, 20, 16, 15]\n"
     ]
    },
    {
     "data": {
      "image/png": "[encoded data removed]",
      "text/plain": [
       "<Figure size 640x480 with 1 Axes>"
      ]
     },
     "metadata": {},
     "output_type": "display_data"
    }
   ],
   "source": [
    "# plotting based on place of lesion\n",
    "print(\"At the following places the lesions are seen : \\n\",\n",
    "      df_with_cancer[\"localization\"].unique())\n",
    "unique_place_lesion_list = ['back', 'upper extremity', 'face', 'lower extremity',\n",
    "                            'chest', 'abdomen', 'trunk', 'neck', 'scalp', 'foot', 'ear', 'hand', 'unknown']\n",
    "print(\"Total Unique Places of lesion : \", len(unique_place_lesion_list))\n",
    "# taking the lesion place counts in a list to plot\n",
    "lesion_place_count_list = list(df_with_cancer[\"localization\"].value_counts())\n",
    "print(lesion_place_count_list)\n",
    "df_with_cancer[\"localization\"].value_counts()\n",
    "\n",
    "# #plot\n",
    "plt2 = pd.DataFrame({'count': unique_place_lesion_list,\n",
    "                    'val': lesion_place_count_list})\n",
    "ax1 = plt2.plot.bar(x='count', y='val', rot=60)\n",
    "\n",
    "# HENCE WE CAN CONCLUDE THAT LESIONS AT BACK ARE MORE PROMINENT\n"
   ]
  },
  {
   "cell_type": "code",
   "execution_count": 588,
   "metadata": {},
   "outputs": [
    {
     "data": {
      "image/png": "[encoded data removed]",
      "text/plain": [
       "<Figure size 640x480 with 1 Axes>"
      ]
     },
     "metadata": {},
     "output_type": "display_data"
    }
   ],
   "source": [
    "# LET US NOW SEE WHICH TYPE OF CANCER CELL IS MORE PROMINENT AT THE BACK REGION\n",
    "prom_back_cell = list(\n",
    "    df_with_cancer[df_with_cancer[\"localization\"] == \"back\"][\"dx\"].value_counts())\n",
    "prom_back_cell\n",
    "# plot\n",
    "plt3 = pd.DataFrame({'count': ['mel', 'bcc', 'akiec'], 'val': prom_back_cell})\n",
    "ax2 = plt3.plot.bar(x='count', y='val', rot=60)\n",
    "\n",
    "\n",
    "# HENCE THE (mel) cancerrous cell is more prominent near the back\n"
   ]
  },
  {
   "cell_type": "code",
   "execution_count": 589,
   "metadata": {},
   "outputs": [
    {
     "name": "stderr",
     "output_type": "stream",
     "text": [
      "C:\\Users\\91818\\AppData\\Local\\Temp\\ipykernel_51316\\3389694182.py:5: SettingWithCopyWarning: \n",
      "A value is trying to be set on a copy of a slice from a DataFrame\n",
      "\n",
      "See the caveats in the documentation: https://pandas.pydata.org/pandas-docs/stable/user_guide/indexing.html#returning-a-view-versus-a-copy\n",
      "  df_copy[\"nc_or_c\"][(df_copy[\"dx\"] == \"mel\") | (\n"
     ]
    },
    {
     "data": {
      "text/html": [
       "<div>\n",
       "<style scoped>\n",
       "    .dataframe tbody tr th:only-of-type {\n",
       "        vertical-align: middle;\n",
       "    }\n",
       "\n",
       "    .dataframe tbody tr th {\n",
       "        vertical-align: top;\n",
       "    }\n",
       "\n",
       "    .dataframe thead th {\n",
       "        text-align: right;\n",
       "    }\n",
       "</style>\n",
       "<table border=\"1\" class=\"dataframe\">\n",
       "  <thead>\n",
       "    <tr style=\"text-align: right;\">\n",
       "      <th></th>\n",
       "      <th>dx</th>\n",
       "      <th>age</th>\n",
       "      <th>sex</th>\n",
       "      <th>localization</th>\n",
       "      <th>nc_or_c</th>\n",
       "    </tr>\n",
       "  </thead>\n",
       "  <tbody>\n",
       "    <tr>\n",
       "      <th>0</th>\n",
       "      <td>bkl</td>\n",
       "      <td>80.0</td>\n",
       "      <td>male</td>\n",
       "      <td>scalp</td>\n",
       "      <td>NC</td>\n",
       "    </tr>\n",
       "    <tr>\n",
       "      <th>1</th>\n",
       "      <td>bkl</td>\n",
       "      <td>80.0</td>\n",
       "      <td>male</td>\n",
       "      <td>scalp</td>\n",
       "      <td>NC</td>\n",
       "    </tr>\n",
       "    <tr>\n",
       "      <th>2</th>\n",
       "      <td>bkl</td>\n",
       "      <td>80.0</td>\n",
       "      <td>male</td>\n",
       "      <td>scalp</td>\n",
       "      <td>NC</td>\n",
       "    </tr>\n",
       "    <tr>\n",
       "      <th>3</th>\n",
       "      <td>bkl</td>\n",
       "      <td>80.0</td>\n",
       "      <td>male</td>\n",
       "      <td>scalp</td>\n",
       "      <td>NC</td>\n",
       "    </tr>\n",
       "    <tr>\n",
       "      <th>4</th>\n",
       "      <td>bkl</td>\n",
       "      <td>75.0</td>\n",
       "      <td>male</td>\n",
       "      <td>ear</td>\n",
       "      <td>NC</td>\n",
       "    </tr>\n",
       "    <tr>\n",
       "      <th>...</th>\n",
       "      <td>...</td>\n",
       "      <td>...</td>\n",
       "      <td>...</td>\n",
       "      <td>...</td>\n",
       "      <td>...</td>\n",
       "    </tr>\n",
       "    <tr>\n",
       "      <th>10010</th>\n",
       "      <td>akiec</td>\n",
       "      <td>40.0</td>\n",
       "      <td>male</td>\n",
       "      <td>abdomen</td>\n",
       "      <td>C</td>\n",
       "    </tr>\n",
       "    <tr>\n",
       "      <th>10011</th>\n",
       "      <td>akiec</td>\n",
       "      <td>40.0</td>\n",
       "      <td>male</td>\n",
       "      <td>abdomen</td>\n",
       "      <td>C</td>\n",
       "    </tr>\n",
       "    <tr>\n",
       "      <th>10012</th>\n",
       "      <td>akiec</td>\n",
       "      <td>40.0</td>\n",
       "      <td>male</td>\n",
       "      <td>abdomen</td>\n",
       "      <td>C</td>\n",
       "    </tr>\n",
       "    <tr>\n",
       "      <th>10013</th>\n",
       "      <td>akiec</td>\n",
       "      <td>80.0</td>\n",
       "      <td>male</td>\n",
       "      <td>face</td>\n",
       "      <td>C</td>\n",
       "    </tr>\n",
       "    <tr>\n",
       "      <th>10014</th>\n",
       "      <td>mel</td>\n",
       "      <td>70.0</td>\n",
       "      <td>female</td>\n",
       "      <td>back</td>\n",
       "      <td>C</td>\n",
       "    </tr>\n",
       "  </tbody>\n",
       "</table>\n",
       "<p>10015 rows × 5 columns</p>\n",
       "</div>"
      ],
      "text/plain": [
       "          dx   age     sex localization nc_or_c\n",
       "0        bkl  80.0    male        scalp      NC\n",
       "1        bkl  80.0    male        scalp      NC\n",
       "2        bkl  80.0    male        scalp      NC\n",
       "3        bkl  80.0    male        scalp      NC\n",
       "4        bkl  75.0    male          ear      NC\n",
       "...      ...   ...     ...          ...     ...\n",
       "10010  akiec  40.0    male      abdomen       C\n",
       "10011  akiec  40.0    male      abdomen       C\n",
       "10012  akiec  40.0    male      abdomen       C\n",
       "10013  akiec  80.0    male         face       C\n",
       "10014    mel  70.0  female         back       C\n",
       "\n",
       "[10015 rows x 5 columns]"
      ]
     },
     "execution_count": 589,
     "metadata": {},
     "output_type": "execute_result"
    }
   ],
   "source": [
    "# NOW LET US CLASSIFY IS A PERSON HAS CANCER OR NOT\n",
    "# BEFORE THAT LET US FIRST CREATE ANOTHER COLUMN WITH 'NC' - NO CANCER AND 'N' - FOR CANCER\n",
    "\n",
    "df_copy[\"nc_or_c\"] = \"NC\"\n",
    "df_copy[\"nc_or_c\"][(df_copy[\"dx\"] == \"mel\") | (\n",
    "    df_copy[\"dx\"] == \"bcc\") | (df_copy[\"dx\"] == \"akiec\")] = \"C\"\n",
    "# UPDATED THE COLUMN \"nc_or_c\" in the dataframe\n",
    "df_copy\n"
   ]
  },
  {
   "cell_type": "code",
   "execution_count": 590,
   "metadata": {},
   "outputs": [
    {
     "name": "stdout",
     "output_type": "stream",
     "text": [
      "10015\n",
      "       dx   age  sex  localization nc_or_c\n",
      "0       0  80.0    0            10      NC\n",
      "1       0  80.0    0            10      NC\n",
      "2       0  80.0    0            10      NC\n",
      "3       0  80.0    0            10      NC\n",
      "4       0  75.0    0             8      NC\n",
      "...    ..   ...  ...           ...     ...\n",
      "10010   6  40.0    0             5       C\n",
      "10011   6  40.0    0             5       C\n",
      "10012   6  40.0    0             5       C\n",
      "10013   6  80.0    0             4       C\n",
      "10014   3  70.0    1             2       C\n",
      "\n",
      "[10015 rows x 5 columns]\n"
     ]
    }
   ],
   "source": [
    "# converting string data into numerical data\n",
    "# localization  numbering is give as follows\n",
    "\n",
    "'''\n",
    "['chest'            (1)\n",
    "'upper extremity'   (2)\n",
    "'back'              (3)\n",
    "'lower extremity'   (4)\n",
    "'face'              (5)\n",
    "'abdomen'           (6)\n",
    " 'foot'             (7)\n",
    " 'neck'             (8)\n",
    " 'ear'              (9)\n",
    " 'trunk'            (10)\n",
    " 'scalp'            (11)\n",
    " 'unknown'          (12)\n",
    " 'hand']            (13) \n",
    " '''\n",
    "\n",
    "'''\n",
    " ['bkl'             (1)\n",
    " 'nv'               (2)\n",
    " 'df'               (3)\n",
    " 'mel'              (4)\n",
    " vasc'              (5)\n",
    " 'bcc'              (6)\n",
    " 'akiec']           (7)\n",
    " '''\n",
    " #sex numbering given as follows\n",
    "'''\n",
    " male   - (0)\n",
    " female - (1)\n",
    " unknown - (3)\n",
    "'''\n",
    "'''\n",
    "for nan values the median of the ages are taken in the age column\n",
    "'''\n",
    "# dx numbering is given as follows\n",
    "print(df_copy.shape[0])\n",
    "# converting the categorical variable sex to numerical by assigning values\n",
    "df_copy[\"sex\"] = df_copy[\"sex\"].map({\"male\": 0, \"female\": 1, \"unknown\": 3})\n",
    "# converting the categorical variable localization to numerical by assigning values\n",
    "df_copy[\"localization\"] = df_copy[\"localization\"].map({\"chest\": 0, \"upper extremity\": 1, \"back\": 2, \"lower extremity\": 3, \"face\": 4, \"abdomen\": 5, \"foot\": 6,\n",
    "                                                       \"neck\": 7, \"ear\": 8, \"trunk\": 9, \"scalp\": 10, \"unknown\": 11, \"hand\": 12, \"genital\": 13, \"acral\": 14})\n",
    "# converting the categorical dx  to numerical by assigning values\n",
    "df_copy[\"dx\"] = df_copy[\"dx\"].map({\"bkl\": 0,\"nv\": 1, \"df\": 2,\"mel\": 3,\"vasc\": 4, \"bcc\": 5,\"akiec\":6})\n",
    "\n",
    "print(df_copy)\n"
   ]
  },
  {
   "cell_type": "code",
   "execution_count": 591,
   "metadata": {},
   "outputs": [
    {
     "data": {
      "text/plain": [
       "dx                int64\n",
       "age             float64\n",
       "sex               int64\n",
       "localization      int64\n",
       "nc_or_c          object\n",
       "dtype: object"
      ]
     },
     "execution_count": 591,
     "metadata": {},
     "output_type": "execute_result"
    }
   ],
   "source": [
    "df_copy.dtypes\n"
   ]
  },
  {
   "cell_type": "code",
   "execution_count": 592,
   "metadata": {},
   "outputs": [
    {
     "name": "stdout",
     "output_type": "stream",
     "text": [
      "57\n"
     ]
    },
    {
     "data": {
      "text/html": [
       "<div>\n",
       "<style scoped>\n",
       "    .dataframe tbody tr th:only-of-type {\n",
       "        vertical-align: middle;\n",
       "    }\n",
       "\n",
       "    .dataframe tbody tr th {\n",
       "        vertical-align: top;\n",
       "    }\n",
       "\n",
       "    .dataframe thead th {\n",
       "        text-align: right;\n",
       "    }\n",
       "</style>\n",
       "<table border=\"1\" class=\"dataframe\">\n",
       "  <thead>\n",
       "    <tr style=\"text-align: right;\">\n",
       "      <th></th>\n",
       "      <th>dx</th>\n",
       "      <th>age</th>\n",
       "      <th>sex</th>\n",
       "      <th>localization</th>\n",
       "      <th>nc_or_c</th>\n",
       "    </tr>\n",
       "  </thead>\n",
       "  <tbody>\n",
       "    <tr>\n",
       "      <th>0</th>\n",
       "      <td>0</td>\n",
       "      <td>80.0</td>\n",
       "      <td>0</td>\n",
       "      <td>10</td>\n",
       "      <td>NC</td>\n",
       "    </tr>\n",
       "    <tr>\n",
       "      <th>1</th>\n",
       "      <td>0</td>\n",
       "      <td>80.0</td>\n",
       "      <td>0</td>\n",
       "      <td>10</td>\n",
       "      <td>NC</td>\n",
       "    </tr>\n",
       "    <tr>\n",
       "      <th>2</th>\n",
       "      <td>0</td>\n",
       "      <td>80.0</td>\n",
       "      <td>0</td>\n",
       "      <td>10</td>\n",
       "      <td>NC</td>\n",
       "    </tr>\n",
       "    <tr>\n",
       "      <th>3</th>\n",
       "      <td>0</td>\n",
       "      <td>80.0</td>\n",
       "      <td>0</td>\n",
       "      <td>10</td>\n",
       "      <td>NC</td>\n",
       "    </tr>\n",
       "    <tr>\n",
       "      <th>4</th>\n",
       "      <td>0</td>\n",
       "      <td>75.0</td>\n",
       "      <td>0</td>\n",
       "      <td>8</td>\n",
       "      <td>NC</td>\n",
       "    </tr>\n",
       "    <tr>\n",
       "      <th>...</th>\n",
       "      <td>...</td>\n",
       "      <td>...</td>\n",
       "      <td>...</td>\n",
       "      <td>...</td>\n",
       "      <td>...</td>\n",
       "    </tr>\n",
       "    <tr>\n",
       "      <th>10010</th>\n",
       "      <td>6</td>\n",
       "      <td>40.0</td>\n",
       "      <td>0</td>\n",
       "      <td>5</td>\n",
       "      <td>C</td>\n",
       "    </tr>\n",
       "    <tr>\n",
       "      <th>10011</th>\n",
       "      <td>6</td>\n",
       "      <td>40.0</td>\n",
       "      <td>0</td>\n",
       "      <td>5</td>\n",
       "      <td>C</td>\n",
       "    </tr>\n",
       "    <tr>\n",
       "      <th>10012</th>\n",
       "      <td>6</td>\n",
       "      <td>40.0</td>\n",
       "      <td>0</td>\n",
       "      <td>5</td>\n",
       "      <td>C</td>\n",
       "    </tr>\n",
       "    <tr>\n",
       "      <th>10013</th>\n",
       "      <td>6</td>\n",
       "      <td>80.0</td>\n",
       "      <td>0</td>\n",
       "      <td>4</td>\n",
       "      <td>C</td>\n",
       "    </tr>\n",
       "    <tr>\n",
       "      <th>10014</th>\n",
       "      <td>3</td>\n",
       "      <td>70.0</td>\n",
       "      <td>1</td>\n",
       "      <td>2</td>\n",
       "      <td>C</td>\n",
       "    </tr>\n",
       "  </tbody>\n",
       "</table>\n",
       "<p>10015 rows × 5 columns</p>\n",
       "</div>"
      ],
      "text/plain": [
       "       dx   age  sex  localization nc_or_c\n",
       "0       0  80.0    0            10      NC\n",
       "1       0  80.0    0            10      NC\n",
       "2       0  80.0    0            10      NC\n",
       "3       0  80.0    0            10      NC\n",
       "4       0  75.0    0             8      NC\n",
       "...    ..   ...  ...           ...     ...\n",
       "10010   6  40.0    0             5       C\n",
       "10011   6  40.0    0             5       C\n",
       "10012   6  40.0    0             5       C\n",
       "10013   6  80.0    0             4       C\n",
       "10014   3  70.0    1             2       C\n",
       "\n",
       "[10015 rows x 5 columns]"
      ]
     },
     "execution_count": 592,
     "metadata": {},
     "output_type": "execute_result"
    }
   ],
   "source": [
    "# LOOKS LIKE THERE ARE SOME NULL VALUES LET US FIND THEM\n",
    "\n",
    "count_nan = df_copy[\"age\"].isnull().sum()\n",
    "print(count_nan)\n",
    "df_copy.shape\n",
    "\n",
    "# FILLING THOSE VALUES WITH MEDIAN OF AGES\n",
    "df_copy[\"age\"] = df_copy[\"age\"].fillna(value=df_copy[\"age\"].median())\n",
    "#df_copy = df_copy.dropna()\n",
    "df_copy\n"
   ]
  },
  {
   "cell_type": "code",
   "execution_count": 593,
   "metadata": {},
   "outputs": [
    {
     "name": "stdout",
     "output_type": "stream",
     "text": [
      "0.5414309484193012\n",
      "0.6252911813643927\n",
      "0.6575707154742096\n",
      "0.6898502495840266\n",
      "0.6845257903494176\n",
      "0.6908485856905158\n",
      "0.697504159733777\n",
      "0.6955074875207987\n",
      "0.6985024958402662\n",
      "0.6978369384359401\n",
      "0.6928452579034942\n",
      "0.697504159733777\n",
      "0.7008319467554076\n",
      "0.6965058236272879\n",
      "0.7051580698835275\n",
      "0.7008319467554076\n",
      "0.7031613976705491\n",
      "0.7004991680532446\n",
      "0.702828618968386\n",
      "0.7008319467554076\n",
      "0.6985024958402662\n",
      "0.6998336106489185\n",
      "0.697171381031614\n",
      "0.6951747088186356\n",
      "0.6931780366056572\n",
      "0.6951747088186356\n",
      "0.691846921797005\n",
      "0.6935108153078203\n",
      "0.6911813643926789\n",
      "0.691846921797005\n",
      "0.691846921797005\n",
      "0.6925124792013311\n",
      "0.6928452579034942\n",
      "0.6925124792013311\n",
      "0.691846921797005\n",
      "0.6908485856905158\n",
      "0.6911813643926789\n",
      "0.6875207986688852\n",
      "0.6868552412645591\n",
      "0.6858569051580699\n",
      "0.686522462562396\n",
      "0.6851913477537438\n",
      "0.6848585690515807\n",
      "0.6875207986688852\n",
      "0.6858569051580699\n",
      "0.6848585690515807\n",
      "0.6845257903494176\n",
      "0.6835274542429285\n",
      "0.6841930116472545\n",
      "0.6825291181364392\n"
     ]
    }
   ],
   "source": [
    "# KNN based on type of cell\n",
    "df_cell_based = df_copy[\"dx\"]\n",
    "\n",
    "df_without_dx_c_or_c = df_copy.drop([\"nc_or_c\", \"dx\"], axis=1)\n",
    "df_without_dx_c_or_c\n",
    "\n",
    "train_X, val_X, train_y, val_y = train_test_split(\n",
    "    df_without_dx_c_or_c, df_cell_based, test_size=0.3, random_state=23)\n",
    "acc_list2=[]\n",
    "acc_index2=[]\n",
    "for i in range(1,100,2):\n",
    "    n2 = KNN(n_neighbors=i)\n",
    "    n2.fit(train_X, train_y)\n",
    "    pred2 = n2.predict(val_X)\n",
    "\n",
    "    #print(\"The Predicted Values Are\")\n",
    "    #print(pred2)\n",
    "\n",
    "    #print(\"Confusion Matrix\")\n",
    "    confusion2 = confusion_matrix(val_y, pred2)\n",
    "    #print(confusion2)\n",
    "\n",
    "    #print(\"Accuracy Score\")\n",
    "    accur2 = accuracy_score(val_y, pred2)\n",
    "    acc_list2.append(accur2)\n",
    "    acc_index2.append(i)\n",
    "    print(accur2)\n"
   ]
  },
  {
   "cell_type": "code",
   "execution_count": 594,
   "metadata": {},
   "outputs": [
    {
     "data": {
      "image/png": "[encoded data removed]",
      "text/plain": [
       "<Figure size 640x480 with 1 Axes>"
      ]
     },
     "metadata": {},
     "output_type": "display_data"
    }
   ],
   "source": [
    "plt6 = pd.DataFrame({'count': acc_index2, 'val': acc_list2})\n",
    "ax_k= plt6.plot(x='count', y='val')\n",
    "#at k=33 we get 70% accuracy"
   ]
  },
  {
   "cell_type": "code",
   "execution_count": 595,
   "metadata": {},
   "outputs": [
    {
     "name": "stdout",
     "output_type": "stream",
     "text": [
      "       dx   age  sex  localization\n",
      "0       0  80.0    0            10\n",
      "1       0  80.0    0            10\n",
      "2       0  80.0    0            10\n",
      "3       0  80.0    0            10\n",
      "4       0  75.0    0             8\n",
      "...    ..   ...  ...           ...\n",
      "10010   6  40.0    0             5\n",
      "10011   6  40.0    0             5\n",
      "10012   6  40.0    0             5\n",
      "10013   6  80.0    0             4\n",
      "10014   3  70.0    1             2\n",
      "\n",
      "[10015 rows x 4 columns]\n",
      "['dx', 'age', 'sex', 'localization']\n",
      "       dx   age  sex  localization\n",
      "0       0  80.0    0            10\n",
      "1       0  80.0    0            10\n",
      "2       0  80.0    0            10\n",
      "3       0  80.0    0            10\n",
      "4       0  75.0    0             8\n",
      "...    ..   ...  ...           ...\n",
      "10010   6  40.0    0             5\n",
      "10011   6  40.0    0             5\n",
      "10012   6  40.0    0             5\n",
      "10013   6  80.0    0             4\n",
      "10014   3  70.0    1             2\n",
      "\n",
      "[10015 rows x 4 columns]\n",
      "(10015, 4)\n"
     ]
    }
   ],
   "source": [
    "# we take the tatget variable as 'nc_or_c' column\n",
    "\n",
    "y = df_copy[\"nc_or_c\"]\n",
    "df_without_target = df_copy.drop('nc_or_c', axis=1)\n",
    "# df_without_target = df_copy.drop('dx',axis=1)\n",
    "print(df_without_target)\n",
    "features = list(df_without_target.columns)\n",
    "print(features)\n",
    "df_features = df_copy[features]\n",
    "print(df_features)\n",
    "# # Split into validation and training data\n",
    "train_X, val_X, train_y, val_y = train_test_split(\n",
    "    df_features, y, test_size=0.3, random_state=42)\n",
    "\n",
    "print(df_features.shape)\n"
   ]
  },
  {
   "cell_type": "code",
   "execution_count": 596,
   "metadata": {},
   "outputs": [
    {
     "name": "stdout",
     "output_type": "stream",
     "text": [
      "[0.9966722129783694, 0.9913477537437604, 0.9906821963394343, 0.9880199667221298, 0.9853577371048253, 0.9846921797004992, 0.9823627287853577, 0.9833610648918469, 0.9826955074875208, 0.9816971713810316, 0.9820299500831947, 0.9810316139767055, 0.9803660565723794, 0.9790349417637271, 0.978369384359401, 0.9760399334442595, 0.9733777038269551, 0.9733777038269551, 0.9713810316139767, 0.9703826955074876, 0.9703826955074876, 0.9687188019966723, 0.9687188019966723, 0.9683860232945092, 0.9683860232945092, 0.967720465890183, 0.967054908485857, 0.9660565723793677, 0.9637271214642263, 0.9633943427620633, 0.9637271214642263, 0.9613976705490849, 0.9613976705490849, 0.9600665557404326, 0.9603993344425956, 0.9603993344425956, 0.9603993344425956, 0.9587354409317803, 0.9587354409317803, 0.9580698835274543, 0.9550748752079867, 0.9530782029950083, 0.9540765391014975, 0.9527454242928453, 0.9540765391014975, 0.9537437603993344, 0.951414309484193, 0.9474209650582363, 0.9477537437603993, 0.9480865224625624]\n"
     ]
    }
   ],
   "source": [
    "\n",
    "\n",
    "# Specify Model classification\n",
    "# KNN CLASSIFICATION\n",
    "acc_list = []\n",
    "acc_index = []\n",
    "for i in range(1, 100, 2):\n",
    "    n1 = KNN(n_neighbors=i)\n",
    "    n1.fit(train_X, train_y)\n",
    "    pred1 = n1.predict(val_X)\n",
    "\n",
    "    #print(\"The Predicted Values Are\")\n",
    "    # print(pred1)\n",
    "\n",
    "    #print(\"Confusion Matrix\")\n",
    "    confusion1 = confusion_matrix(val_y, pred1)\n",
    "    # print(confusion1)\n",
    "\n",
    "    #print(\"Accuracy Score\")\n",
    "    accur1 = accuracy_score(val_y, pred1)\n",
    "    acc_list.append(accur1)\n",
    "    acc_index.append(i)\n",
    "\n",
    "    # print(accur1)\n",
    "print(acc_list)\n",
    "# for k = 1 we get the best accuracy score\n"
   ]
  },
  {
   "cell_type": "code",
   "execution_count": 597,
   "metadata": {},
   "outputs": [
    {
     "name": "stdout",
     "output_type": "stream",
     "text": [
      "The Predicted Values Are\n",
      "['C' 'NC' 'C' ... 'NC' 'C' 'C']\n",
      "Confusion Matrix\n",
      "[[ 578    8]\n",
      " [   2 2417]]\n",
      "Accuracy Score\n",
      "0.9966722129783694\n"
     ]
    }
   ],
   "source": [
    "best_k = KNN(n_neighbors=1)\n",
    "best_k.fit(train_X, train_y)\n",
    "pred = best_k.predict(val_X)\n",
    "\n",
    "print(\"The Predicted Values Are\")\n",
    "print(pred)\n",
    "\n",
    "print(\"Confusion Matrix\")\n",
    "confusion = confusion_matrix(val_y, pred)\n",
    "print(confusion)\n",
    "\n",
    "print(\"Accuracy Score\")\n",
    "accur = accuracy_score(val_y, pred)\n",
    "print(accur)\n"
   ]
  },
  {
   "cell_type": "code",
   "execution_count": 598,
   "metadata": {},
   "outputs": [
    {
     "data": {
      "image/png": "[encoded data removed]",
      "text/plain": [
       "<Figure size 640x480 with 1 Axes>"
      ]
     },
     "metadata": {},
     "output_type": "display_data"
    }
   ],
   "source": [
    "# let us plot a graph for various k values vs the accuracy score\n",
    "res = plt.scatter(x=acc_index, y=acc_list)\n",
    "plt.show()\n"
   ]
  },
  {
   "cell_type": "code",
   "execution_count": 599,
   "metadata": {},
   "outputs": [
    {
     "data": {
      "image/png": "[encoded data removed]",
      "text/plain": [
       "<Figure size 640x480 with 1 Axes>"
      ]
     },
     "metadata": {},
     "output_type": "display_data"
    }
   ],
   "source": [
    "plt5 = pd.DataFrame({'count': acc_index, 'val': acc_list})\n",
    "ax2 = plt5.plot(x='count', y='val')\n"
   ]
  },
  {
   "cell_type": "code",
   "execution_count": 600,
   "metadata": {},
   "outputs": [
    {
     "data": {
      "text/plain": [
       "'\\nfor nan values the median of the ages are taken in the age column\\n'"
      ]
     },
     "execution_count": 600,
     "metadata": {},
     "output_type": "execute_result"
    }
   ],
   "source": [
    "#------------------------------------------DONE--------------------------------------------#\n",
    "# all assumptions\n",
    "'''\n",
    "['chest'            (1)\n",
    "'upper extremity'   (2)\n",
    "'back'              (3)\n",
    "'lower extremity'   (4)\n",
    "'face'              (5)\n",
    "'abdomen'           (6)\n",
    " 'foot'             (7)\n",
    " 'neck'             (8)\n",
    " 'ear'              (9)\n",
    " 'trunk'            (10)\n",
    " 'scalp'            (11)\n",
    " 'unknown'          (12)\n",
    " 'hand']            (13) \n",
    " '''\n",
    "\n",
    "'''\n",
    " ['bkl'             (1)\n",
    " 'nv'               (2)\n",
    " 'df'               (3)\n",
    " 'mel'              (4)\n",
    " vasc'              (5)\n",
    " 'bcc'              (6)\n",
    " 'akiec']           (7)\n",
    " '''\n",
    " #sex numbering given as follows\n",
    "'''\n",
    " male   - (0)\n",
    " female - (1)\n",
    " unknown - (3)\n",
    "'''\n",
    "'''\n",
    "for nan values the median of the ages are taken in the age column\n",
    "'''"
   ]
  }
 ],
 "metadata": {
  "kernelspec": {
   "display_name": "Python 3",
   "language": "python",
   "name": "python3"
  },
  "language_info": {
   "codemirror_mode": {
    "name": "ipython",
    "version": 3
   },
   "file_extension": ".py",
   "mimetype": "text/x-python",
   "name": "python",
   "nbconvert_exporter": "python",
   "pygments_lexer": "ipython3",
   "version": "3.10.9"
  },
  "orig_nbformat": 4,
  "vscode": {
   "interpreter": {
    "hash": "90c21906f2bc70c4e3af1ab85741cf88cc6410f92d678f915083284c90545fe2"
   }
  }
 },
 "nbformat": 4,
 "nbformat_minor": 2
}
